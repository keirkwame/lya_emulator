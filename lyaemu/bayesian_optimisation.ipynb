{
 "cells": [
  {
   "cell_type": "code",
   "execution_count": 1,
   "metadata": {},
   "outputs": [
    {
     "name": "stderr",
     "output_type": "stream",
     "text": [
      "/share/apps/anaconda/python3.6/lib/python3.6/site-packages/h5py/__init__.py:36: FutureWarning: Conversion of the second argument of issubdtype from `float` to `np.floating` is deprecated. In future, it will be treated as `np.float64 == np.dtype(float).type`.\n",
      "  from ._conv import register_converters as _register_converters\n",
      "/home/keir/Software/lya_emulator/lyaemu/SimulationRunner/SimulationRunner/cambpower.py:8: UserWarning: \n",
      "This call to matplotlib.use() has no effect because the backend has already\n",
      "been chosen; matplotlib.use() must be called *before* pylab, matplotlib.pyplot,\n",
      "or matplotlib.backends is imported for the first time.\n",
      "\n",
      "The backend was *originally* set to 'module://ipykernel.pylab.backend_inline' by the following code:\n",
      "  File \"/share/apps/anaconda/python3.6/lib/python3.6/runpy.py\", line 193, in _run_module_as_main\n",
      "    \"__main__\", mod_spec)\n",
      "  File \"/share/apps/anaconda/python3.6/lib/python3.6/runpy.py\", line 85, in _run_code\n",
      "    exec(code, run_globals)\n",
      "  File \"/share/apps/anaconda/python3.6/lib/python3.6/site-packages/ipykernel_launcher.py\", line 16, in <module>\n",
      "    app.launch_new_instance()\n",
      "  File \"/share/apps/anaconda/python3.6/lib/python3.6/site-packages/traitlets/config/application.py\", line 658, in launch_instance\n",
      "    app.start()\n",
      "  File \"/share/apps/anaconda/python3.6/lib/python3.6/site-packages/ipykernel/kernelapp.py\", line 478, in start\n",
      "    self.io_loop.start()\n",
      "  File \"/share/apps/anaconda/python3.6/lib/python3.6/site-packages/zmq/eventloop/ioloop.py\", line 177, in start\n",
      "    super(ZMQIOLoop, self).start()\n",
      "  File \"/share/apps/anaconda/python3.6/lib/python3.6/site-packages/tornado/ioloop.py\", line 888, in start\n",
      "    handler_func(fd_obj, events)\n",
      "  File \"/share/apps/anaconda/python3.6/lib/python3.6/site-packages/tornado/stack_context.py\", line 277, in null_wrapper\n",
      "    return fn(*args, **kwargs)\n",
      "  File \"/share/apps/anaconda/python3.6/lib/python3.6/site-packages/zmq/eventloop/zmqstream.py\", line 440, in _handle_events\n",
      "    self._handle_recv()\n",
      "  File \"/share/apps/anaconda/python3.6/lib/python3.6/site-packages/zmq/eventloop/zmqstream.py\", line 472, in _handle_recv\n",
      "    self._run_callback(callback, msg)\n",
      "  File \"/share/apps/anaconda/python3.6/lib/python3.6/site-packages/zmq/eventloop/zmqstream.py\", line 414, in _run_callback\n",
      "    callback(*args, **kwargs)\n",
      "  File \"/share/apps/anaconda/python3.6/lib/python3.6/site-packages/tornado/stack_context.py\", line 277, in null_wrapper\n",
      "    return fn(*args, **kwargs)\n",
      "  File \"/share/apps/anaconda/python3.6/lib/python3.6/site-packages/ipykernel/kernelbase.py\", line 283, in dispatcher\n",
      "    return self.dispatch_shell(stream, msg)\n",
      "  File \"/share/apps/anaconda/python3.6/lib/python3.6/site-packages/ipykernel/kernelbase.py\", line 233, in dispatch_shell\n",
      "    handler(stream, idents, msg)\n",
      "  File \"/share/apps/anaconda/python3.6/lib/python3.6/site-packages/ipykernel/kernelbase.py\", line 399, in execute_request\n",
      "    user_expressions, allow_stdin)\n",
      "  File \"/share/apps/anaconda/python3.6/lib/python3.6/site-packages/ipykernel/ipkernel.py\", line 208, in do_execute\n",
      "    res = shell.run_cell(code, store_history=store_history, silent=silent)\n",
      "  File \"/share/apps/anaconda/python3.6/lib/python3.6/site-packages/ipykernel/zmqshell.py\", line 537, in run_cell\n",
      "    return super(ZMQInteractiveShell, self).run_cell(*args, **kwargs)\n",
      "  File \"/share/apps/anaconda/python3.6/lib/python3.6/site-packages/IPython/core/interactiveshell.py\", line 2728, in run_cell\n",
      "    interactivity=interactivity, compiler=compiler, result=result)\n",
      "  File \"/share/apps/anaconda/python3.6/lib/python3.6/site-packages/IPython/core/interactiveshell.py\", line 2850, in run_ast_nodes\n",
      "    if self.run_code(code, result):\n",
      "  File \"/share/apps/anaconda/python3.6/lib/python3.6/site-packages/IPython/core/interactiveshell.py\", line 2910, in run_code\n",
      "    exec(code_obj, self.user_global_ns, self.user_ns)\n",
      "  File \"<ipython-input-1-14ac27deda15>\", line 9, in <module>\n",
      "    get_ipython().run_line_magic('matplotlib', 'inline')\n",
      "  File \"/share/apps/anaconda/python3.6/lib/python3.6/site-packages/IPython/core/interactiveshell.py\", line 2095, in run_line_magic\n",
      "    result = fn(*args,**kwargs)\n",
      "  File \"<decorator-gen-107>\", line 2, in matplotlib\n",
      "  File \"/share/apps/anaconda/python3.6/lib/python3.6/site-packages/IPython/core/magic.py\", line 187, in <lambda>\n",
      "    call = lambda f, *a, **k: f(*a, **k)\n",
      "  File \"/share/apps/anaconda/python3.6/lib/python3.6/site-packages/IPython/core/magics/pylab.py\", line 99, in matplotlib\n",
      "    gui, backend = self.shell.enable_matplotlib(args.gui)\n",
      "  File \"/share/apps/anaconda/python3.6/lib/python3.6/site-packages/IPython/core/interactiveshell.py\", line 2978, in enable_matplotlib\n",
      "    pt.activate_matplotlib(backend)\n",
      "  File \"/share/apps/anaconda/python3.6/lib/python3.6/site-packages/IPython/core/pylabtools.py\", line 308, in activate_matplotlib\n",
      "    matplotlib.pyplot.switch_backend(backend)\n",
      "  File \"/share/apps/anaconda/python3.6/lib/python3.6/site-packages/matplotlib/pyplot.py\", line 232, in switch_backend\n",
      "    matplotlib.use(newbackend, warn=False, force=True)\n",
      "  File \"/share/apps/anaconda/python3.6/lib/python3.6/site-packages/matplotlib/__init__.py\", line 1305, in use\n",
      "    reload(sys.modules['matplotlib.backends'])\n",
      "  File \"/share/apps/anaconda/python3.6/lib/python3.6/importlib/__init__.py\", line 166, in reload\n",
      "    _bootstrap._exec(spec, module)\n",
      "  File \"/share/apps/anaconda/python3.6/lib/python3.6/site-packages/matplotlib/backends/__init__.py\", line 14, in <module>\n",
      "    line for line in traceback.format_stack()\n",
      "\n",
      "\n",
      "  matplotlib.use(\"PDF\")\n",
      "/home/keir/Software/lya_emulator/lyaemu/gpemulator.py:9: UserWarning: \n",
      "This call to matplotlib.use() has no effect because the backend has already\n",
      "been chosen; matplotlib.use() must be called *before* pylab, matplotlib.pyplot,\n",
      "or matplotlib.backends is imported for the first time.\n",
      "\n",
      "The backend was *originally* set to 'module://ipykernel.pylab.backend_inline' by the following code:\n",
      "  File \"/share/apps/anaconda/python3.6/lib/python3.6/runpy.py\", line 193, in _run_module_as_main\n",
      "    \"__main__\", mod_spec)\n",
      "  File \"/share/apps/anaconda/python3.6/lib/python3.6/runpy.py\", line 85, in _run_code\n",
      "    exec(code, run_globals)\n",
      "  File \"/share/apps/anaconda/python3.6/lib/python3.6/site-packages/ipykernel_launcher.py\", line 16, in <module>\n",
      "    app.launch_new_instance()\n",
      "  File \"/share/apps/anaconda/python3.6/lib/python3.6/site-packages/traitlets/config/application.py\", line 658, in launch_instance\n",
      "    app.start()\n",
      "  File \"/share/apps/anaconda/python3.6/lib/python3.6/site-packages/ipykernel/kernelapp.py\", line 478, in start\n",
      "    self.io_loop.start()\n",
      "  File \"/share/apps/anaconda/python3.6/lib/python3.6/site-packages/zmq/eventloop/ioloop.py\", line 177, in start\n",
      "    super(ZMQIOLoop, self).start()\n",
      "  File \"/share/apps/anaconda/python3.6/lib/python3.6/site-packages/tornado/ioloop.py\", line 888, in start\n",
      "    handler_func(fd_obj, events)\n",
      "  File \"/share/apps/anaconda/python3.6/lib/python3.6/site-packages/tornado/stack_context.py\", line 277, in null_wrapper\n",
      "    return fn(*args, **kwargs)\n",
      "  File \"/share/apps/anaconda/python3.6/lib/python3.6/site-packages/zmq/eventloop/zmqstream.py\", line 440, in _handle_events\n",
      "    self._handle_recv()\n",
      "  File \"/share/apps/anaconda/python3.6/lib/python3.6/site-packages/zmq/eventloop/zmqstream.py\", line 472, in _handle_recv\n",
      "    self._run_callback(callback, msg)\n",
      "  File \"/share/apps/anaconda/python3.6/lib/python3.6/site-packages/zmq/eventloop/zmqstream.py\", line 414, in _run_callback\n",
      "    callback(*args, **kwargs)\n",
      "  File \"/share/apps/anaconda/python3.6/lib/python3.6/site-packages/tornado/stack_context.py\", line 277, in null_wrapper\n",
      "    return fn(*args, **kwargs)\n",
      "  File \"/share/apps/anaconda/python3.6/lib/python3.6/site-packages/ipykernel/kernelbase.py\", line 283, in dispatcher\n",
      "    return self.dispatch_shell(stream, msg)\n",
      "  File \"/share/apps/anaconda/python3.6/lib/python3.6/site-packages/ipykernel/kernelbase.py\", line 233, in dispatch_shell\n",
      "    handler(stream, idents, msg)\n",
      "  File \"/share/apps/anaconda/python3.6/lib/python3.6/site-packages/ipykernel/kernelbase.py\", line 399, in execute_request\n",
      "    user_expressions, allow_stdin)\n",
      "  File \"/share/apps/anaconda/python3.6/lib/python3.6/site-packages/ipykernel/ipkernel.py\", line 208, in do_execute\n",
      "    res = shell.run_cell(code, store_history=store_history, silent=silent)\n",
      "  File \"/share/apps/anaconda/python3.6/lib/python3.6/site-packages/ipykernel/zmqshell.py\", line 537, in run_cell\n",
      "    return super(ZMQInteractiveShell, self).run_cell(*args, **kwargs)\n",
      "  File \"/share/apps/anaconda/python3.6/lib/python3.6/site-packages/IPython/core/interactiveshell.py\", line 2728, in run_cell\n",
      "    interactivity=interactivity, compiler=compiler, result=result)\n",
      "  File \"/share/apps/anaconda/python3.6/lib/python3.6/site-packages/IPython/core/interactiveshell.py\", line 2850, in run_ast_nodes\n",
      "    if self.run_code(code, result):\n",
      "  File \"/share/apps/anaconda/python3.6/lib/python3.6/site-packages/IPython/core/interactiveshell.py\", line 2910, in run_code\n",
      "    exec(code_obj, self.user_global_ns, self.user_ns)\n",
      "  File \"<ipython-input-1-14ac27deda15>\", line 9, in <module>\n",
      "    get_ipython().run_line_magic('matplotlib', 'inline')\n",
      "  File \"/share/apps/anaconda/python3.6/lib/python3.6/site-packages/IPython/core/interactiveshell.py\", line 2095, in run_line_magic\n",
      "    result = fn(*args,**kwargs)\n",
      "  File \"<decorator-gen-107>\", line 2, in matplotlib\n",
      "  File \"/share/apps/anaconda/python3.6/lib/python3.6/site-packages/IPython/core/magic.py\", line 187, in <lambda>\n",
      "    call = lambda f, *a, **k: f(*a, **k)\n",
      "  File \"/share/apps/anaconda/python3.6/lib/python3.6/site-packages/IPython/core/magics/pylab.py\", line 99, in matplotlib\n",
      "    gui, backend = self.shell.enable_matplotlib(args.gui)\n",
      "  File \"/share/apps/anaconda/python3.6/lib/python3.6/site-packages/IPython/core/interactiveshell.py\", line 2978, in enable_matplotlib\n",
      "    pt.activate_matplotlib(backend)\n",
      "  File \"/share/apps/anaconda/python3.6/lib/python3.6/site-packages/IPython/core/pylabtools.py\", line 308, in activate_matplotlib\n",
      "    matplotlib.pyplot.switch_backend(backend)\n",
      "  File \"/share/apps/anaconda/python3.6/lib/python3.6/site-packages/matplotlib/pyplot.py\", line 232, in switch_backend\n",
      "    matplotlib.use(newbackend, warn=False, force=True)\n",
      "  File \"/share/apps/anaconda/python3.6/lib/python3.6/site-packages/matplotlib/__init__.py\", line 1305, in use\n",
      "    reload(sys.modules['matplotlib.backends'])\n",
      "  File \"/share/apps/anaconda/python3.6/lib/python3.6/importlib/__init__.py\", line 166, in reload\n",
      "    _bootstrap._exec(spec, module)\n",
      "  File \"/share/apps/anaconda/python3.6/lib/python3.6/site-packages/matplotlib/backends/__init__.py\", line 14, in <module>\n",
      "    line for line in traceback.format_stack()\n",
      "\n",
      "\n",
      "  matplotlib.use('PDF')\n"
     ]
    }
   ],
   "source": [
    "import os\n",
    "\n",
    "import copy as cp\n",
    "import numpy as np\n",
    "import matplotlib.pyplot as plt\n",
    "import getdist as gd\n",
    "import getdist.plots as gdp\n",
    "\n",
    "%matplotlib inline\n",
    "\n",
    "from lyaemu import likelihood as lyl\n",
    "from lyaemu import lyman_data as lyd\n"
   ]
  },
  {
   "cell_type": "code",
   "execution_count": 2,
   "metadata": {},
   "outputs": [
    {
     "name": "stdout",
     "output_type": "stream",
     "text": [
      "Beginning to generate emulator at 2020-03-26 19:16:58.829377\n",
      "k_max_emulated_h_Mpc = 28.093018599498517 0.19952623149688797 4.95 0.33\n",
      "dpvals = [[0.73805814]\n",
      " [0.79181238]\n",
      " [0.84556662]\n",
      " [0.89932086]\n",
      " [0.95307511]\n",
      " [1.00682935]\n",
      " [1.06058359]\n",
      " [1.11433784]\n",
      " [1.16809208]\n",
      " [1.22184632]]\n",
      "nuggets = [0.         0.00096758 0.00193515 0.00290273 0.00387031 0.00483788\n",
      " 0.00580546 0.00677303 0.00774061 0.00870819 0.00967576 0.01064334\n",
      " 0.01161092 0.01257849 0.01354607 0.01451365 0.01548122 0.0164488\n",
      " 0.01741637 0.01838395 0.01935153 0.0203191  0.02128668 0.02225426\n",
      " 0.02322183 0.02418941 0.02515699 0.02612456 0.02709214 0.02805971\n",
      " 0.02902729 0.02999487 0.03096244 0.03193002 0.0328976  0.03386517\n",
      " 0.03483275 0.03580033 0.0367679  0.03773548 0.03870306 0.03967063\n",
      " 0.04063821 0.04160578 0.04257336 0.04354094 0.04450851 0.04547609\n",
      " 0.04644367 0.04741124]\n",
      "mean_flux = [[0.27388422 0.36723956 0.45885946]\n",
      " [0.24923206 0.34140027 0.43354996]\n",
      " [0.22679882 0.31737906 0.40963647]\n",
      " [0.20638478 0.29504799 0.38704198]\n",
      " [0.1878082  0.27428817 0.36569374]\n",
      " [0.17090369 0.25498902 0.34552302]\n",
      " [0.15552075 0.23704777 0.32646486]\n",
      " [0.14152241 0.22036889 0.3084579 ]\n",
      " [0.12878406 0.20486354 0.29144416]\n",
      " [0.11719228 0.19044917 0.27536886]]\n",
      "Number of redshifts for emulator generation = 3\n",
      "Running L-BFGS-B (Scipy implementation) Code:\n",
      "  runtime   i      f              |g|        \n",
      "    00s14  0002   1.535972e+04   2.221514e+08 \n",
      "    01s16  0021   1.146288e+04   6.183372e+03 \n",
      "    01s77  0034   1.144880e+04   2.539019e-03 \n",
      "Runtime:     01s77\n",
      "Optimization status: Converged\n",
      "\n",
      "Running L-BFGS-B (Scipy implementation) Code:\n",
      "  runtime   i      f              |g|        \n",
      "    00s05  0001   3.883851e+05   2.257245e+12 \n",
      "    00s18  0004   2.791774e+04   4.036548e+07 \n",
      "    01s19  0028   2.065372e+04   3.754386e+04 \n",
      "    01s49  0035   2.065158e+04   4.196132e-03 \n",
      "Runtime:     01s49\n",
      "Optimization status: Converged\n",
      "\n",
      "Running L-BFGS-B (Scipy implementation) Code:\n",
      "  runtime   i      f              |g|        \n",
      "    00s05  0001   4.732070e+04   5.045535e+10 \n",
      "    00s18  0004   5.492825e+03   5.868918e+06 \n",
      "    01s19  0029   2.578372e+03   1.020923e+05 \n",
      "    01s51  0037   2.576675e+03   1.185690e-04 \n",
      "Runtime:     01s51\n",
      "Optimization status: Converged\n",
      "\n",
      "Finished generating emulator at 2020-03-26 19:17:04.141380\n"
     ]
    }
   ],
   "source": [
    "basedir = '/share/data2/keir/Simulations/nCDM_emulator_512'\n",
    "emulator_json = 'emulator_params_TDR_u0_original.json'\n",
    "use_measured_params = True\n",
    "redshift_dependent_params = True\n",
    "\n",
    "lyman_data_instance = lyd.BoeraData()\n",
    "z = lyman_data_instance.redshifts_unique[::-1]\n",
    "\n",
    "\n",
    "likelihood_instance = lyl.UltraLightAxionLikelihoodClass(basedir, mean_flux='free_high_z', max_z=np.max(z),\n",
    "                                                         redshifts=z, pixel_resolution_km_s=1., emulator_class='nCDM',\n",
    "                                                         emulator_json_file=emulator_json,\n",
    "                                                         use_measured_parameters=use_measured_params,\n",
    "                                                         redshift_dependent_parameters=redshift_dependent_params,\n",
    "                                                         data_class='Boera',\n",
    "                                                         dark_matter_model=lyl.ultra_light_axion_numerical_model)\n",
    "\n",
    "likelihood_instance.data_fluxpower = likelihood_instance.lyman_data_flux_power[::-1].flatten()\n"
   ]
  },
  {
   "cell_type": "code",
   "execution_count": 3,
   "metadata": {},
   "outputs": [],
   "source": [
    "#Prior function\n",
    "prior_gaussian_param_names = np.array(['tau0_0', 'tau0_1', 'tau0_2', 'ns', 'As', 'omega_m', 'T_0_z_5.0', 'T_0_z_4.6',\n",
    "                                      'T_0_z_4.2'])\n",
    "prior_gaussian_mean = np.array([1., 1., 1., 0.9635, 1.8296e-9, 0.3209, 8022., 7651., 8673.])\n",
    "prior_gaussian_std = np.array([0.05, 0.05, 0.05, 0.0057, 0.030 * 1.e-9, 0.00001, 3000., 3000., 3000.])\n",
    "prior_gaussian = lambda params: likelihood_instance.log_gaussian_prior(params, prior_gaussian_param_names,\n",
    "                                                                       prior_gaussian_mean, prior_gaussian_std)\n",
    "\n",
    "prior_max_jump_param_names = np.array(['T_0', 'u_0'])\n",
    "prior_max_jumps = np.array([5000., 10.])\n",
    "prior_max_jump = lambda params: likelihood_instance.log_redshift_prior(params, prior_max_jump_param_names,\n",
    "                                                                       prior_max_jumps)\n",
    "\n",
    "prior_convex_hull_param_names = [['T_0_z_5.0', 'u_0_z_5.0'], ['T_0_z_4.6', 'u_0_z_4.6'], ['T_0_z_4.2', 'u_0_z_4.2']]\n",
    "prior_convex_hull = lambda params: likelihood_instance.log_convex_hull_prior(params, prior_convex_hull_param_names)\n",
    "\n",
    "prior_functions = [prior_gaussian, prior_max_jump, prior_convex_hull]\n"
   ]
  },
  {
   "cell_type": "code",
   "execution_count": 4,
   "metadata": {},
   "outputs": [
    {
     "data": {
      "text/plain": [
       "(16,)"
      ]
     },
     "execution_count": 4,
     "metadata": {},
     "output_type": "execute_result"
    }
   ],
   "source": [
    "#Test high likelihood\n",
    "test_params = np.array([0.9635, 1.8296e-9, 0.3209, 8022., 7651., 8673., 1.44, 1.48, 1.45, 4.56, 6.11, 7.24, -19.1])\n",
    "test_params_mf = np.concatenate((np.array([0.77, 0.78, 0.93]), test_params))\n",
    "test_params_mf.shape\n"
   ]
  },
  {
   "cell_type": "code",
   "execution_count": null,
   "metadata": {},
   "outputs": [],
   "source": [
    "#Test low likelihood\n",
    "test_params = np.array([0.975, 1.75e-9, 0.3, 13000., 13000., 13000., 1., 1., 1., 20., 20., 20., -21.])\n",
    "test_params_mf = np.concatenate((np.ones(3) * 1., test_params))\n",
    "test_params_mf.shape\n"
   ]
  },
  {
   "cell_type": "code",
   "execution_count": null,
   "metadata": {},
   "outputs": [],
   "source": [
    "#Test BO functions\n",
    "log_posterior = likelihood_instance.log_posterior_marginalised_mean_flux(test_params, prior_functions=prior_functions)\n",
    "print('log posterior marginalised =', log_posterior)\n"
   ]
  },
  {
   "cell_type": "code",
   "execution_count": null,
   "metadata": {},
   "outputs": [],
   "source": [
    "#Test BO functions [low likelihood]\n",
    "log_posterior = likelihood_instance.log_posterior_marginalised_mean_flux(test_params, prior_functions=prior_functions)\n",
    "print('log posterior marginalised =', log_posterior)\n"
   ]
  },
  {
   "cell_type": "code",
   "execution_count": null,
   "metadata": {},
   "outputs": [],
   "source": [
    "#Test log posterior\n",
    "log_posterior = likelihood_instance.log_posterior(test_params_mf, prior_functions=prior_functions)\n",
    "print('log posterior =', log_posterior)\n"
   ]
  },
  {
   "cell_type": "code",
   "execution_count": null,
   "metadata": {},
   "outputs": [],
   "source": [
    "#Test log posterior [low likelihood]\n",
    "log_posterior = likelihood_instance.log_posterior(test_params_mf, prior_functions=prior_functions)\n",
    "print('log posterior =', log_posterior)\n"
   ]
  },
  {
   "cell_type": "code",
   "execution_count": null,
   "metadata": {},
   "outputs": [],
   "source": [
    "#Test emulator error [marginalised]\n",
    "emu_err = likelihood_instance._get_emulator_error_averaged_mean_flux(test_params)\n",
    "print('emulator error marginalised =', emu_err)\n"
   ]
  },
  {
   "cell_type": "code",
   "execution_count": null,
   "metadata": {},
   "outputs": [],
   "source": [
    "#Test emulator error\n",
    "emu_k, emu_power, emu_std = likelihood_instance.get_predicted(test_params_mf)\n"
   ]
  },
  {
   "cell_type": "code",
   "execution_count": null,
   "metadata": {},
   "outputs": [],
   "source": [
    "for i in range(len(emu_k)):\n",
    "    plt.plot(np.log10(emu_k[i]), np.log10(emu_k[i] * emu_power[i] / np.pi))\n"
   ]
  },
  {
   "cell_type": "code",
   "execution_count": null,
   "metadata": {},
   "outputs": [],
   "source": [
    "for i in range(len(emu_k)):\n",
    "    plt.plot(np.log10(emu_k[i]), emu_std[i] / emu_power[i])\n",
    "    plt.plot(np.log10(emu_k[i]), emu_err[i*emu_k[i].size: (i+1)*emu_k[i].size] / emu_power[i], ls=':')\n"
   ]
  },
  {
   "cell_type": "code",
   "execution_count": null,
   "metadata": {},
   "outputs": [],
   "source": [
    "#Test exploration term\n",
    "explore = likelihood_instance._get_GP_UCB_exploration_term(emu_err, 13, nu=0.25)\n",
    "print('Exploration =', explore)\n"
   ]
  },
  {
   "cell_type": "code",
   "execution_count": null,
   "metadata": {},
   "outputs": [],
   "source": [
    "likelihood_instance.get_data_covariance(-1).shape\n"
   ]
  },
  {
   "cell_type": "code",
   "execution_count": null,
   "metadata": {},
   "outputs": [],
   "source": [
    "#Test acquisition function\n",
    "acquire = likelihood_instance.acquisition_function_GP_UCB_marginalised_mean_flux(test_params, nu=0.25,\n",
    "                                                                                 prior_functions=prior_functions)\n",
    "print('Acquisition =', acquire)\n"
   ]
  },
  {
   "cell_type": "code",
   "execution_count": null,
   "metadata": {},
   "outputs": [],
   "source": [
    "#Test acquisition function\n",
    "acquire_mf = likelihood_instance.acquisition_function_GP_UCB(test_params_mf, nu=0.25, prior_functions=prior_functions)\n",
    "print('Acquisition =', acquire_mf)\n"
   ]
  },
  {
   "cell_type": "code",
   "execution_count": null,
   "metadata": {
    "scrolled": true
   },
   "outputs": [],
   "source": [
    "#Optimise acquisition function\n",
    "optimise_bounds = [(0.05, 0.95) for i in range(test_params_mf.size)]\n",
    "optimise_bounds[-1] = (0.05, 1.)\n",
    "acquire_max = likelihood_instance.optimise_acquisition_function(test_params_mf,\n",
    "                                                                acquisition_function='GP_UCB',\n",
    "                                                                optimisation_bounds=optimise_bounds,\n",
    "                                                                optimisation_method='TNC', nu=0.25,\n",
    "                                                                prior_functions=prior_functions)\n"
   ]
  },
  {
   "cell_type": "code",
   "execution_count": null,
   "metadata": {},
   "outputs": [],
   "source": [
    "acquire_max\n"
   ]
  },
  {
   "cell_type": "code",
   "execution_count": null,
   "metadata": {},
   "outputs": [],
   "source": [
    "acquire_max0 = cp.deepcopy(acquire_max)\n"
   ]
  },
  {
   "cell_type": "code",
   "execution_count": null,
   "metadata": {},
   "outputs": [],
   "source": [
    "acquire_max0\n"
   ]
  },
  {
   "cell_type": "code",
   "execution_count": null,
   "metadata": {},
   "outputs": [],
   "source": [
    "#Marginalise mean flux\n",
    " fun: -394.72107147587747\n",
    "     jac: array([ 4.33402533e+01, -3.24205530e+02,  2.16144097e+04,  3.26689360e+00,\n",
    "        5.59946329e+00, -2.06749746e+00, -9.49059540e+01, -1.35267192e+02,\n",
    "        2.33754122e+01,  2.24580754e+02,  2.96598682e+02,  6.20065634e+00,\n",
    "        1.99674491e+02])\n",
    " message: 'Converged (|x_n-x_(n-1)| ~= 0)'\n",
    "    nfev: 93\n",
    "     nit: 6\n",
    "  status: 2\n",
    " success: True\n",
    "       x: array([0.54330369, 0.58804541, 0.87045623, 0.45045675, 0.43422056,\n",
    "       0.406574  , 0.70211524, 0.71994382, 0.67016032, 0.05594524,\n",
    "       0.05575224, 0.17343253, 0.95731355])\n"
   ]
  },
  {
   "cell_type": "code",
   "execution_count": null,
   "metadata": {},
   "outputs": [],
   "source": [
    "acquire_max_params = lyl.map_from_unit_cube(acquire_max.x, likelihood_instance.param_limits)\n"
   ]
  },
  {
   "cell_type": "code",
   "execution_count": null,
   "metadata": {},
   "outputs": [],
   "source": [
    "acquire_max_params = lyl.map_from_unit_cube(acquire_max.x,\n",
    "                                            likelihood_instance.param_limits[likelihood_instance.zout.shape[0]:])\n"
   ]
  },
  {
   "cell_type": "code",
   "execution_count": null,
   "metadata": {},
   "outputs": [],
   "source": [
    "print('Maximum of acquisition function =', acquire_max)\n",
    "print(acquire_max_params)\n",
    "print('Starting params =', test_params_mf)\n"
   ]
  },
  {
   "cell_type": "code",
   "execution_count": null,
   "metadata": {},
   "outputs": [],
   "source": [
    "#Plot posteriors\n",
    "def make_plot(chainfile, savefile, true_parameter_values=None, pnames=None, ranges=None, parameter_indices=None):\n",
    "    \"\"\"Make a getdist plot\"\"\"\n",
    "    samples = np.loadtxt(chainfile)\n",
    "    #A_s hack\n",
    "    #samples = samples[samples[:, 4] > 2.05e-9, :]\n",
    "\n",
    "    if parameter_indices is not None:\n",
    "        samples = samples[:, parameter_indices]\n",
    "        true_parameter_values = true_parameter_values[parameter_indices]\n",
    "        pnames = pnames[parameter_indices]\n",
    "        ranges = ranges[parameter_indices]\n",
    "\n",
    "    ticks = {}\n",
    "    if pnames is None:\n",
    "        #Default emulator parameters\n",
    "        pnames = [r\"d\\tau_0\", r\"\\tau_0\", r\"n_s\", r\"A_\\mathrm{P} \\times 10^9\", r\"H_S\", r\"H_A\", r\"h\"]\n",
    "        samples[:,3] *= 1e9\n",
    "        true_parameter_values[3] *= 1e9\n",
    "        #Ticks we want to show for each parameter\n",
    "        ticks = {pnames[3]: [1.5, 2.0, 2.5], pnames[4]: [-0.6,-0.3, 0.], pnames[5]: [0.5,0.7,1.0,1.3], pnames[6]: [0.66, 0.70, 0.74]}\n",
    "    prange = None\n",
    "    if ranges is not None:\n",
    "        prange = {pnames[i] : ranges[i] for i in range(len(pnames))}\n",
    "    posterior_MCsamples = gd.MCSamples(samples=samples, names=pnames, labels=pnames, label='', ranges=prange)\n",
    "\n",
    "    print(\"Sim=\",savefile)\n",
    "    #Get and print the confidence limits\n",
    "    for i in range(len(pnames)):\n",
    "        strr = pnames[i]+\" 1-sigma, 2-sigma: \"\n",
    "        if i == 6:\n",
    "            for j in (0.32, 0.05):\n",
    "                strr += str(round(posterior_MCsamples.confidence(i, j, upper=True),5)) + \" \"\n",
    "        else:\n",
    "            for j in (0.16, 1-0.16, 0.025, 1-0.025):\n",
    "                strr += str(round(posterior_MCsamples.confidence(i, j),5)) + \" \"\n",
    "        print(strr)\n",
    "    subplot_instance = gdp.getSubplotPlotter()\n",
    "    subplot_instance.triangle_plot([posterior_MCsamples], filled=True)\n",
    "#     colour_array = np.array(['black', 'red', 'magenta', 'green', 'green', 'purple', 'turquoise', 'gray', 'red', 'blue'])\n",
    "\n",
    "    for pi in range(samples.shape[1]):\n",
    "        for pi2 in range(pi + 1):\n",
    "            #Place horizontal and vertical lines for the true point\n",
    "            ax = subplot_instance.subplots[pi, pi2]\n",
    "            ax.yaxis.label.set_size(24)\n",
    "            ax.xaxis.label.set_size(24)\n",
    "            if pi == samples.shape[1]-1 and pnames[pi2] in ticks:\n",
    "                ax.set_xticks(ticks[pnames[pi2]])\n",
    "            if pi2 == 0 and pnames[pi] in ticks:\n",
    "                ax.set_yticks(ticks[pnames[pi]])\n",
    "            ax.axvline(true_parameter_values[pi2], color='gray', ls='--', lw=4)\n",
    "            if pi2 < pi:\n",
    "                ax.axhline(true_parameter_values[pi], color='gray', ls='--', lw=4)\n",
    "#                #Plot the emulator points\n",
    "#                 if parameter_index > 1:\n",
    "#                     ax.scatter(simulation_parameters_latin[:, parameter_index2 - 2], simulation_parameters_latin[:, parameter_index - 2], s=54, color=colour_array[-1], marker='+')\n",
    "#\n",
    "#     legend_labels = ['+ Initial Latin hypercube']\n",
    "#     subplot_instance.add_legend(legend_labels, legend_loc='upper right', colored_text=True, figure=True)\n",
    "    plt.savefig(savefile)\n",
    "\n",
    "    return subplot_instance\n"
   ]
  },
  {
   "cell_type": "code",
   "execution_count": null,
   "metadata": {
    "scrolled": false
   },
   "outputs": [],
   "source": [
    "chainfile_root = '/home/keir/Plots/nCDM'\n",
    "chainfile = 'chain_ns0.964As1.83e-09heat_slope0heat_amp1omega_m0.321alpha0beta1gamma-1z_rei8T_rei2e+04_1_emu50_data_TDR_u0_300_ULA_fit_convex_hull_omega_m_fix_Planck_tau_T0_prior_no_jump_Tu0.txt'\n",
    "chainfile = os.path.join(chainfile_root, chainfile)\n",
    "\n",
    "subplot_instance = make_plot(chainfile, None, true_parameter_values=test_params_mf,\n",
    "          pnames=likelihood_instance.likelihood_parameter_names[:, 1],\n",
    "          ranges=likelihood_instance.param_limits)\n"
   ]
  },
  {
   "cell_type": "code",
   "execution_count": null,
   "metadata": {},
   "outputs": [],
   "source": [
    "#Plot test points\n",
    "for a in range(0, test_params_mf.shape[0]):\n",
    "    for b in range(a + 1):\n",
    "        ax = subplot_instance.subplots[a, b]\n",
    "        if b < a:\n",
    "            ax.scatter(acquire_max_params[b - 0], acquire_max_params[a - 0], s=1000, color='red', marker='+')\n"
   ]
  },
  {
   "cell_type": "code",
   "execution_count": null,
   "metadata": {},
   "outputs": [],
   "source": [
    "subplot_instance.fig\n"
   ]
  },
  {
   "cell_type": "code",
   "execution_count": 5,
   "metadata": {},
   "outputs": [],
   "source": [
    "#BO-1\n",
    "'''Maximum of acquisition function =      fun: -353.914275727603\n",
    "     jac: array([ 4.55890307e+02,  4.89668190e+02,  2.95751647e+01,  4.49569450e+02,\n",
    "       -3.77147819e+02,  1.14626398e+04,  1.19608262e+02,  1.13920612e+02,\n",
    "       -9.70749170e-01, -7.27263853e+01, -7.31309228e+01,  3.79277651e+01,\n",
    "        2.01726948e+02,  2.63873142e+02,  5.39544658e+00, -3.13192612e+02])\n",
    " message: 'Converged (|x_n-x_(n-1)| ~= 0)'\n",
    "    nfev: 58\n",
    "     nit: 8\n",
    "  status: 2\n",
    " success: True\n",
    "       x: array([0.05      , 0.05      , 0.35450285, 0.60230512, 0.51105329,\n",
    "       0.87024889, 0.30105636, 0.34192525, 0.40767761, 0.75969048,\n",
    "       0.73606158, 0.66219663, 0.05      , 0.05      , 0.17386334,\n",
    "       0.96686619])\n",
    "[ 7.75000000e-01  7.75000000e-01  9.27251427e-01  9.57218987e-01\n",
    "  1.86436927e-09  3.20917423e-01  5.73440366e+03  6.19803012e+03\n",
    "  8.67488662e+03  1.52988653e+00  1.52905577e+00  1.43409983e+00\n",
    "  2.42028785e+00  3.21983473e+00  7.22534864e+00 -1.90994014e+01]\n",
    "Starting params = [ 7.7000e-01  7.8000e-01  9.3000e-01  9.6350e-01  1.8296e-09  3.2090e-01\n",
    "  8.0220e+03  7.6510e+03  8.6730e+03  1.4400e+00  1.4800e+00  1.4500e+00\n",
    "  4.5600e+00  6.1100e+00  7.2400e+00 -1.9100e+01]'''\n",
    "\n",
    "acquire_max_params = np.array([ 7.75000000e-01,  7.75000000e-01,  9.27251427e-01,  9.57218987e-01,\n",
    "  1.86436927e-09,  3.20917423e-01,  5.73440366e+03,  6.19803012e+03,\n",
    "  8.67488662e+03,  1.52988653e+00,  1.52905577e+00,  1.43409983e+00,\n",
    "  2.42028785e+00,  3.21983473e+00,  7.22534864e+00, -1.90994014e+01])\n"
   ]
  },
  {
   "cell_type": "code",
   "execution_count": 6,
   "metadata": {},
   "outputs": [
    {
     "name": "stdout",
     "output_type": "stream",
     "text": [
      "nCDM parameters = [ 5.75659790e-03  5.84204677e+00 -1.31882210e+00]\n"
     ]
    }
   ],
   "source": [
    "#nCDM conversion\n",
    "nCDM_parameters = likelihood_instance.dark_matter_model(np.array([acquire_max_params[-1],]),\n",
    "                                                       likelihood_instance.param_limits_nCDM)\n",
    "print('nCDM parameters =', nCDM_parameters)\n"
   ]
  },
  {
   "cell_type": "code",
   "execution_count": 13,
   "metadata": {},
   "outputs": [
    {
     "name": "stdout",
     "output_type": "stream",
     "text": [
      "['ns' 'As' 'omega_m' 'T_0_z_5.0' 'T_0_z_4.6' 'T_0_z_4.2' 'gamma_z_5.0'\n",
      " 'gamma_z_4.6' 'gamma_z_4.2' 'u_0_z_5.0' 'u_0_z_4.6' 'u_0_z_4.2' 'alpha'\n",
      " 'beta' 'gamma']\n"
     ]
    }
   ],
   "source": [
    "training_parameter_names = np.concatenate((np.array(['ns', 'As', 'omega_m']),\n",
    "        np.array([key for key in likelihood_instance.emulator.measured_param_names.keys()]),\n",
    "        np.array(['alpha', 'beta', 'gamma'])))\n",
    "print(training_parameter_names)\n"
   ]
  },
  {
   "cell_type": "code",
   "execution_count": 8,
   "metadata": {},
   "outputs": [
    {
     "name": "stdout",
     "output_type": "stream",
     "text": [
      "heat_amp = 0.6488485461800885\n"
     ]
    }
   ],
   "source": [
    "#heat_amp\n",
    "measured_parameters = acquire_max_params[3: -1] #np.array([3, 4, -9, -6, -3])]\n",
    "measured_parameters = np.concatenate((measured_parameters, nCDM_parameters))\n",
    "\n",
    "training_parameter_names = np.concatenate((training_parameter_names, np.array(['heat_amp',])))\n",
    "\n",
    "heat_amp = likelihood_instance.emulator.predict_parameters(measured_parameters,\n",
    "                                                           training_parameter_names)\n",
    "#np.array(['ns', 'As', 'T_0_z_4.6', 'gamma_z_4.6',\n",
    "#            'u_0_z_4.6', 'alpha', 'beta', 'gamma', 'heat_amp']))\n",
    "print('heat_amp =', heat_amp)\n"
   ]
  },
  {
   "cell_type": "code",
   "execution_count": 10,
   "metadata": {},
   "outputs": [
    {
     "name": "stdout",
     "output_type": "stream",
     "text": [
      "heat_slope = 0.11017037159243165\n"
     ]
    }
   ],
   "source": [
    "#heat_slope\n",
    "#measured_parameters = acquire_max_params[np.array([-6])] #, -3])]\n",
    "training_parameter_names = np.concatenate((training_parameter_names,\n",
    "                                           np.array(['heat_slope',])))\n",
    "\n",
    "heat_slope = likelihood_instance.emulator.predict_parameters(measured_parameters,\n",
    "                                                             training_parameter_names)\n",
    "#np.array(['ns', 'As', 'T_0_z_4.6', 'gamma_z_4.6',\n",
    "#                'u_0_z_4.6', 'alpha', 'beta', 'gamma', 'heat_slope']))\n",
    "print('heat_slope =', heat_slope)\n"
   ]
  },
  {
   "cell_type": "code",
   "execution_count": 12,
   "metadata": {},
   "outputs": [
    {
     "name": "stdout",
     "output_type": "stream",
     "text": [
      "z_rei = 10.728634685366917\n"
     ]
    }
   ],
   "source": [
    "#z_rei\n",
    "#measured_parameters = acquire_max_params[np.array([-9, -6, -3])]\n",
    "training_parameter_names = np.concatenate((training_parameter_names, np.array(['z_rei',])))\n",
    "\n",
    "z_rei= likelihood_instance.emulator.predict_parameters(measured_parameters,\n",
    "                                                       training_parameter_names)\n",
    "#np.array(['ns', 'As', 'T_0_z_4.6', 'gamma_z_4.6',\n",
    "#                'u_0_z_4.6', 'alpha', 'beta', 'gamma', 'heat_slope']))\n",
    "print('z_rei =', z_rei)\n"
   ]
  },
  {
   "cell_type": "code",
   "execution_count": 14,
   "metadata": {},
   "outputs": [
    {
     "name": "stdout",
     "output_type": "stream",
     "text": [
      "T_rei = 33156.38537140758\n"
     ]
    }
   ],
   "source": [
    "#T_rei\n",
    "#measured_parameters = acquire_max_params[np.array([-9, -6, -3])]\n",
    "training_parameter_names = np.concatenate((training_parameter_names, np.array(['T_rei',])))\n",
    "\n",
    "T_rei= likelihood_instance.emulator.predict_parameters(measured_parameters,\n",
    "                                                       training_parameter_names)\n",
    "#np.array(['ns', 'As', 'T_0_z_4.6', 'gamma_z_4.6',\n",
    "#                'u_0_z_4.6', 'alpha', 'beta', 'gamma', 'heat_slope']))\n",
    "print('T_rei =', T_rei)\n"
   ]
  },
  {
   "cell_type": "code",
   "execution_count": null,
   "metadata": {},
   "outputs": [],
   "source": [
    "#Test parameter predictor\n",
    "colors = ['red', 'blue', 'green']\n",
    "for i in range(3):\n",
    "    plt.scatter(likelihood_instance.emulator.measured_sample_params[:, i],\n",
    "                likelihood_instance.emulator.sample_params[:, 3], color=colors[i])\n",
    "    plt.axvline(x=measured_parameters[i+3], color=colors[i])\n",
    "    plt.axhline(y=heat_amp, color=colors[i])\n",
    "plt.xlabel(r'T_0 [K]')\n",
    "plt.ylabel(r'heat_amp')\n"
   ]
  },
  {
   "cell_type": "code",
   "execution_count": null,
   "metadata": {},
   "outputs": [],
   "source": [
    "#Test heat_amp - u_0\n",
    "for i in range(3):\n",
    "    plt.scatter(likelihood_instance.emulator.measured_sample_params[:, i+6],\n",
    "                likelihood_instance.emulator.sample_params[:, 3], color=colors[i])\n",
    "    plt.axvline(x=measured_parameters[i+9], color=colors[i])\n",
    "    plt.axhline(y=heat_amp, color=colors[i])\n",
    "plt.xlabel(r'u_0 [eV/m_p]')\n",
    "plt.ylabel(r'heat_amp')\n"
   ]
  },
  {
   "cell_type": "code",
   "execution_count": null,
   "metadata": {},
   "outputs": [],
   "source": [
    "#Test heat_slope\n",
    "for i in range(3):\n",
    "    plt.scatter(likelihood_instance.emulator.measured_sample_params[:, i+3],\n",
    "                likelihood_instance.emulator.sample_params[:, 2], color=colors[i])\n",
    "    plt.axvline(x=measured_parameters[i+6], color=colors[i])\n",
    "    plt.axhline(y=heat_slope, color=colors[i])\n",
    "plt.xlabel(r'gamma (z = 4.6)')\n",
    "plt.ylabel(r'heat_slope')\n"
   ]
  },
  {
   "cell_type": "code",
   "execution_count": null,
   "metadata": {},
   "outputs": [],
   "source": [
    "#Test z_rei\n",
    "for i in range(3):\n",
    "    plt.scatter(likelihood_instance.emulator.measured_sample_params[:, i+6],\n",
    "                likelihood_instance.emulator.sample_params[:, 8], color=colors[i])\n",
    "    plt.axvline(x=measured_parameters[i+9], color=colors[i])\n",
    "    plt.axhline(y=z_rei, color=colors[i])\n",
    "plt.xlabel(r'u_0 [eV/m_p]')\n",
    "plt.ylabel(r'z_rei')\n"
   ]
  },
  {
   "cell_type": "code",
   "execution_count": null,
   "metadata": {},
   "outputs": [],
   "source": [
    "#Test T_rei\n",
    "for i in range(3):\n",
    "    plt.scatter(likelihood_instance.emulator.measured_sample_params[:, i+6],\n",
    "                likelihood_instance.emulator.sample_params[:, 9], color=colors[i])\n",
    "    plt.axvline(x=measured_parameters[i+9], color=colors[i])\n",
    "    plt.axhline(y=T_rei, color=colors[i])\n",
    "plt.xlabel(r'u_0 [eV/m_p]')\n",
    "plt.ylabel(r'T_rei [K]')\n"
   ]
  },
  {
   "cell_type": "code",
   "execution_count": 15,
   "metadata": {},
   "outputs": [
    {
     "name": "stdout",
     "output_type": "stream",
     "text": [
      "Parameters for optimisation simulation = [[ 9.57218987e-01  1.86436927e-09  1.10170372e-01  6.48848546e-01\n",
      "   3.20900000e-01  5.75659790e-03  5.84204677e+00 -1.31882210e+00\n",
      "   1.07286347e+01  3.31563854e+04]]\n"
     ]
    }
   ],
   "source": [
    "#Add optimisation simulation\n",
    "optimise_params = np.concatenate((acquire_max_params[np.array([3, 4])],\n",
    "                                  np.array([heat_slope, heat_amp]),\n",
    "                                  np.array([0.3209,]), nCDM_parameters,\n",
    "                                  np.array([z_rei, T_rei]))).reshape(1, -1)\n",
    "print('Parameters for optimisation simulation =', optimise_params)\n"
   ]
  },
  {
   "cell_type": "code",
   "execution_count": 16,
   "metadata": {},
   "outputs": [
    {
     "data": {
      "text/plain": [
       "50"
      ]
     },
     "execution_count": 16,
     "metadata": {},
     "output_type": "execute_result"
    }
   ],
   "source": [
    "optimise_params.shape\n",
    "\n",
    "likelihood_instance.emulator.sample_params.shape[0]\n"
   ]
  },
  {
   "cell_type": "code",
   "execution_count": 17,
   "metadata": {},
   "outputs": [],
   "source": [
    "likelihood_instance.emulator.gen_simulations(None, 512., 10., samples=optimise_params,\n",
    "                                             add_optimisation=True)\n"
   ]
  },
  {
   "cell_type": "code",
   "execution_count": null,
   "metadata": {},
   "outputs": [],
   "source": []
  }
 ],
 "metadata": {
  "kernelspec": {
   "display_name": "Python 3",
   "language": "python",
   "name": "python3"
  },
  "language_info": {
   "codemirror_mode": {
    "name": "ipython",
    "version": 3
   },
   "file_extension": ".py",
   "mimetype": "text/x-python",
   "name": "python",
   "nbconvert_exporter": "python",
   "pygments_lexer": "ipython3",
   "version": "3.6.4"
  }
 },
 "nbformat": 4,
 "nbformat_minor": 2
}
